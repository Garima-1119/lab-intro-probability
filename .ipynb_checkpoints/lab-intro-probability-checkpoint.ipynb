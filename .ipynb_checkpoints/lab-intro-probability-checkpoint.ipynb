{
 "cells": [
  {
   "cell_type": "markdown",
   "metadata": {},
   "source": [
    "# Lab | Intro to Probability"
   ]
  },
  {
   "cell_type": "markdown",
   "metadata": {},
   "source": [
    "**Objective**\n",
    "\n",
    "Welcome to this Intro to Probability lab, where we explore decision-making scenarios through the lens of probability and strategic analysis. In the business world, making informed decisions is crucial, especially when faced with uncertainties. This lab focuses on scenarios where probabilistic outcomes play a significant role in shaping strategies and outcomes. Students will engage in exercises that require assessing and choosing optimal paths based on data-driven insights. The goal is to enhance your skills by applying probability concepts to solve real-world problems."
   ]
  },
  {
   "cell_type": "markdown",
   "metadata": {},
   "source": [
    "**Challenge 1**"
   ]
  },
  {
   "cell_type": "markdown",
   "metadata": {},
   "source": [
    "#### Ironhack Airlines \n",
    "\n",
    "Often Airlines sell more tickets than they have seats available, this is called overbooking. Consider the following:\n",
    "- A plane has 450 seats. \n",
    "- Based on historical data we conclude that each individual passenger has a 3% chance of missing it's flight. \n",
    "\n",
    "If the Ironhack Airlines routinely sells 460 tickets, what is the chance that they have a seats for all passenger?"
   ]
  },
  {
   "cell_type": "code",
   "execution_count": 1,
   "metadata": {},
   "outputs": [
    {
     "name": "stdout",
     "output_type": "stream",
     "text": [
      "The probability that 450 or fewer passengers show up is: 0.8845\n"
     ]
    }
   ],
   "source": [
    "import scipy.stats as stats\n",
    "\n",
    "# Parameters\n",
    "n = 460  # number of tickets sold\n",
    "p = 0.97  # probability a passenger shows up\n",
    "seats = 450  # number of seats available\n",
    "\n",
    "# Calculate the cumulative probability that 450 or fewer passengers show up\n",
    "probability = stats.binom.cdf(seats, n, p)\n",
    "\n",
    "# Print the result\n",
    "print(f\"The probability that 450 or fewer passengers show up is: {probability:.4f}\")"
   ]
  },
  {
   "cell_type": "markdown",
   "metadata": {},
   "source": [
    "**Challenge 2**"
   ]
  },
  {
   "cell_type": "markdown",
   "metadata": {},
   "source": [
    "#### Ironhack Call Center "
   ]
  },
  {
   "cell_type": "markdown",
   "metadata": {},
   "source": [
    "Suppose a customer service representative at a call center is handling customer complaints. Consider the following:\n",
    "- The probability of successfully resolving a customer complaint on the first attempt is 0.3. \n",
    "\n",
    "\n",
    "What is the probability that the representative needs to make at least three attempts before successfully resolving a customer complaint?"
   ]
  },
  {
   "cell_type": "code",
   "execution_count": 5,
   "metadata": {},
   "outputs": [
    {
     "name": "stdout",
     "output_type": "stream",
     "text": [
      "The probability that the representative needs to make at least three attempts is 0.4900\n"
     ]
    }
   ],
   "source": [
    "from scipy.stats import geom\n",
    "\n",
    "p = 0.3\n",
    "geom_dist = geom(p)\n",
    "\n",
    "# Calculer la probabilité d'au moins trois tentatives\n",
    "prob_at_least_three_attempts = 1 - (geom_dist.pmf(1) + geom_dist.pmf(2))\n",
    "\n",
    "print(f\"The probability that the representative needs to make at least three attempts is {prob_at_least_three_attempts:.f}\")"
   ]
  },
  {
   "cell_type": "markdown",
   "metadata": {},
   "source": [
    "**Challenge 3**"
   ]
  },
  {
   "cell_type": "markdown",
   "metadata": {},
   "source": [
    "#### Ironhack Website"
   ]
  },
  {
   "cell_type": "markdown",
   "metadata": {},
   "source": [
    "Consider a scenario related to Ironhack website traffic. Where:\n",
    "- our website takes on average 500 visits per hour.\n",
    "- the website's server is designed to handle up to 550 vists per hour.\n",
    "\n",
    "\n",
    "What is the probability of the website server being overwhelmed?"
   ]
  },
  {
   "cell_type": "code",
   "execution_count": 4,
   "metadata": {},
   "outputs": [
    {
     "name": "stdout",
     "output_type": "stream",
     "text": [
      "The probability that the website server is overwhelmed is: 0.0129\n"
     ]
    }
   ],
   "source": [
    "import scipy.stats as stats\n",
    "\n",
    "# Parameters for the Poisson distribution\n",
    "lambda_ = 500  # average number of visits per hour\n",
    "server_limit = 550  # server can handle up to 550 visits\n",
    "\n",
    "# Calculate the probability that the server is overwhelmed (more than 550 visits)\n",
    "probability_overwhelmed = 1 - stats.poisson.cdf(server_limit, lambda_)\n",
    "\n",
    "# Print the result\n",
    "print(f\"The probability that the website server is overwhelmed is: {probability_overwhelmed:.4f}\")\n"
   ]
  },
  {
   "cell_type": "markdown",
   "metadata": {},
   "source": [
    "What is the probability of being overwhelmed at some point during a day? (consider 24hours)"
   ]
  },
  {
   "cell_type": "code",
   "execution_count": 6,
   "metadata": {},
   "outputs": [
    {
     "name": "stdout",
     "output_type": "stream",
     "text": [
      "The probability that the website server is overwhelmed at least once during the day is: 0.2677\n"
     ]
    }
   ],
   "source": [
    "import scipy.stats as stats\n",
    "\n",
    "# Parameters for the Poisson distribution\n",
    "lambda_ = 500  # average number of visits per hour\n",
    "server_limit = 550  # server can handle up to 550 visits\n",
    "\n",
    "# Calculate the probability that the server is overwhelmed in one hour\n",
    "probability_overwhelmed_hour = 1 - stats.poisson.cdf(server_limit, lambda_)\n",
    "\n",
    "# Probability that the server is not overwhelmed in one hour\n",
    "probability_not_overwhelmed_hour = 1 - probability_overwhelmed_hour\n",
    "\n",
    "# Probability that the server is not overwhelmed in any of the 24 hours\n",
    "probability_not_overwhelmed_day = probability_not_overwhelmed_hour ** 24\n",
    "\n",
    "# Probability that the server is overwhelmed at least once during the day\n",
    "probability_overwhelmed_day = 1 - probability_not_overwhelmed_day\n",
    "\n",
    "# Print the result\n",
    "print(f\"The probability that the website server is overwhelmed at least once during the day is: {probability_overwhelmed_day:.4f}\")\n"
   ]
  },
  {
   "cell_type": "markdown",
   "metadata": {},
   "source": [
    "**Challenge 4**"
   ]
  },
  {
   "cell_type": "markdown",
   "metadata": {},
   "source": [
    "#### Ironhack Helpdesk"
   ]
  },
  {
   "cell_type": "markdown",
   "metadata": {},
   "source": [
    "Consider a scenario related to the time between arrivals of customers at a service desk.\n",
    "\n",
    "On average, a customers arrives every 10minutes.\n",
    "\n",
    "What is the probability that the next customer will arrive within the next 5 minutes?"
   ]
  },
  {
   "cell_type": "code",
   "execution_count": 7,
   "metadata": {},
   "outputs": [
    {
     "name": "stdout",
     "output_type": "stream",
     "text": [
      "The probability that the next customer will arrive within the next 5 minutes is: 0.3935\n"
     ]
    }
   ],
   "source": [
    "import math\n",
    "\n",
    "# Parameters\n",
    "lambda_ = 1 / 10  # rate (customers per minute)\n",
    "time = 5  # time in minutes\n",
    "\n",
    "# Calculate the probability using the CDF of the exponential distribution\n",
    "probability_within_5_minutes = 1 - math.exp(-lambda_ * time)\n",
    "\n",
    "# Print the result\n",
    "print(f\"The probability that the next customer will arrive within the next 5 minutes is: {probability_within_5_minutes:.4f}\")\n"
   ]
  },
  {
   "cell_type": "markdown",
   "metadata": {},
   "source": [
    "If there is no customer for 15minutes, employees can that a 5minutes break.\n",
    "\n",
    "What is the probability an employee taking a break?"
   ]
  },
  {
   "cell_type": "code",
   "execution_count": 8,
   "metadata": {},
   "outputs": [
    {
     "name": "stdout",
     "output_type": "stream",
     "text": [
      "The probability that no customer arrives for 15 minutes (employee can take a break) is: 0.2231\n"
     ]
    }
   ],
   "source": [
    "import math\n",
    "\n",
    "# Parameters\n",
    "lambda_ = 1 / 10  # rate (customers per minute)\n",
    "time = 15  # time in minutes\n",
    "\n",
    "# Calculate the probability that no customer arrives for 15 minutes\n",
    "probability_no_arrival_15_minutes = math.exp(-lambda_ * time)\n",
    "\n",
    "# Print the result\n",
    "print(f\"The probability that no customer arrives for 15 minutes (employee can take a break) is: {probability_no_arrival_15_minutes:.4f}\")\n"
   ]
  },
  {
   "cell_type": "markdown",
   "metadata": {},
   "source": [
    "**Challenge 5**"
   ]
  },
  {
   "cell_type": "markdown",
   "metadata": {},
   "source": [
    "The weights of a certain species of birds follow a normal distribution with a mean weight of 150 grams and a standard deviation of 10 grams. \n",
    "\n",
    "- If we randomly select a bird, what is the probability that its weight is between 140 and 160 grams?"
   ]
  },
  {
   "cell_type": "code",
   "execution_count": 9,
   "metadata": {},
   "outputs": [
    {
     "name": "stdout",
     "output_type": "stream",
     "text": [
      "The probability that the bird's weight is between 140 and 160 grams is: 0.6827\n"
     ]
    }
   ],
   "source": [
    "import scipy.stats as stats\n",
    "\n",
    "# Given parameters\n",
    "mean = 150  # mean weight in grams\n",
    "std_dev = 10  # standard deviation in grams\n",
    "lower_bound = 140\n",
    "upper_bound = 160\n",
    "\n",
    "# Calculate the Z-scores for 140 and 160 grams\n",
    "z_lower = (lower_bound - mean) / std_dev\n",
    "z_upper = (upper_bound - mean) / std_dev\n",
    "\n",
    "# Calculate the cumulative probabilities for these Z-scores\n",
    "probability = stats.norm.cdf(z_upper) - stats.norm.cdf(z_lower)\n",
    "\n",
    "# Print the result\n",
    "print(f\"The probability that the bird's weight is between 140 and 160 grams is: {probability:.4f}\")\n"
   ]
  },
  {
   "cell_type": "markdown",
   "metadata": {},
   "source": [
    "**Challenge 6**"
   ]
  },
  {
   "cell_type": "markdown",
   "metadata": {},
   "source": [
    "If the lifetime (in hours) of a certain electronic component follows an exponential distribution with a mean lifetime of 50 hours, what is the probability that the component fails within the first 30 hours?"
   ]
  },
  {
   "cell_type": "code",
   "execution_count": 10,
   "metadata": {},
   "outputs": [
    {
     "name": "stdout",
     "output_type": "stream",
     "text": [
      "The probability that the component fails within the first 30 hours is: 0.4512\n"
     ]
    }
   ],
   "source": [
    "import math\n",
    "\n",
    "# Given parameters\n",
    "mean_lifetime = 50  # mean lifetime in hours\n",
    "rate = 1 / mean_lifetime  # rate parameter λ\n",
    "time = 30  # time in hours\n",
    "\n",
    "# Calculate the probability using the CDF of the exponential distribution\n",
    "probability = 1 - math.exp(-rate * time)\n",
    "\n",
    "# Print the result\n",
    "print(f\"The probability that the component fails within the first 30 hours is: {probability:.4f}\")"
   ]
  },
  {
   "cell_type": "code",
   "execution_count": null,
   "metadata": {},
   "outputs": [],
   "source": []
  }
 ],
 "metadata": {
  "kernelspec": {
   "display_name": "Python 3 (ipykernel)",
   "language": "python",
   "name": "python3"
  },
  "language_info": {
   "codemirror_mode": {
    "name": "ipython",
    "version": 3
   },
   "file_extension": ".py",
   "mimetype": "text/x-python",
   "name": "python",
   "nbconvert_exporter": "python",
   "pygments_lexer": "ipython3",
   "version": "3.9.13"
  }
 },
 "nbformat": 4,
 "nbformat_minor": 2
}
